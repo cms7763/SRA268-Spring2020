{
  "nbformat": 4,
  "nbformat_minor": 0,
  "metadata": {
    "colab": {
      "name": "Copy of Lab2Template.ipynb",
      "provenance": [],
      "include_colab_link": true
    },
    "kernelspec": {
      "name": "python3",
      "display_name": "Python 3"
    }
  },
  "cells": [
    {
      "cell_type": "markdown",
      "metadata": {
        "id": "view-in-github",
        "colab_type": "text"
      },
      "source": [
        "<a href=\"https://colab.research.google.com/github/cms7763/SRA268-Spring2020/blob/master/Copy_of_Lab2Template.ipynb\" target=\"_parent\"><img src=\"https://colab.research.google.com/assets/colab-badge.svg\" alt=\"Open In Colab\"/></a>"
      ]
    },
    {
      "cell_type": "markdown",
      "metadata": {
        "id": "6sOc4Uyr4U-Z",
        "colab_type": "text"
      },
      "source": [
        "## Graph Types"
      ]
    },
    {
      "cell_type": "markdown",
      "metadata": {
        "id": "0zZdVLAd5CYr",
        "colab_type": "text"
      },
      "source": [
        "Creator\n",
        "* Calvin Snyder"
      ]
    },
    {
      "cell_type": "markdown",
      "metadata": {
        "id": "g-r6Clq45Hn4",
        "colab_type": "text"
      },
      "source": [
        "### Deviation\n"
      ]
    },
    {
      "cell_type": "markdown",
      "metadata": {
        "id": "2gorxo6E7A0t",
        "colab_type": "text"
      },
      "source": [
        "![alt text](https://github.com/cms7763/SRA268-Spring2020/blob/master/Lab2/SRA%20268%20Lab%202%20Deviation.PNG?raw=true)"
      ]
    },
    {
      "cell_type": "markdown",
      "metadata": {
        "id": "w6bZ_NEi7E3w",
        "colab_type": "text"
      },
      "source": [
        "#### What is this telling us?"
      ]
    },
    {
      "cell_type": "markdown",
      "metadata": {
        "id": "95L-spaC7QHF",
        "colab_type": "text"
      },
      "source": [
        "This graph shows the points of each team per game, with the center being zero. Users can view each game and see which team won and how many points they earned that game, as well as the losing team and how many points they earned. Visually, if the green bar is much larger than the red bar, you can tell the winning team steam rolled their opponent. If the red and green bars are similar size, you can tell it was a close game and the winning team barely won. The graph also shows each season year and day the game was played. (Side note: I wanted to have it separated by game but there was no way to do that other that what I did, otherwise it would separate by winning team and have 4+ losing teams making it look very odd.)"
      ]
    },
    {
      "cell_type": "markdown",
      "metadata": {
        "id": "YgXyXjmz7cDP",
        "colab_type": "text"
      },
      "source": [
        "### Correlation\n"
      ]
    },
    {
      "cell_type": "markdown",
      "metadata": {
        "id": "SGx15rZq7hvt",
        "colab_type": "text"
      },
      "source": [
        "![alt text](https://github.com/cms7763/SRA268-Spring2020/blob/master/Lab2/SRA%20268%20Lab%202%20Correlation.PNG?raw=true)"
      ]
    },
    {
      "cell_type": "markdown",
      "metadata": {
        "id": "dljjONNi7jmj",
        "colab_type": "text"
      },
      "source": [
        "#### What is this telling us?"
      ]
    },
    {
      "cell_type": "markdown",
      "metadata": {
        "id": "PwZEZrFB7laG",
        "colab_type": "text"
      },
      "source": [
        "This graph is showcasing the relationship between the points of winning teams and the winning seed. There is a very obvious negative relationship between points earned and seed, as a lower seed is more likely to have more points earned. Lower seeds only earned a few hundred to a few thousand points total, with a minimum of only a mere 658 at seed 15, where as the higher seeds were in the tens of thousands of points total, with the maximum reaching 36,112 points, nearly 64 times the amount of points as seed 15. A quick and immediate draw from even a glance at this graph shows that lower seeds score a greater number of points total."
      ]
    },
    {
      "cell_type": "markdown",
      "metadata": {
        "id": "MqUdI-uL7r2s",
        "colab_type": "text"
      },
      "source": [
        "### Ranking\n"
      ]
    },
    {
      "cell_type": "markdown",
      "metadata": {
        "id": "AvlxCOVt7x9F",
        "colab_type": "text"
      },
      "source": [
        "![alt text](https://github.com/cms7763/SRA268-Spring2020/blob/master/Lab2/SRA%20268%20Lab%202%20Ranking.PNG?raw=true)"
      ]
    },
    {
      "cell_type": "markdown",
      "metadata": {
        "id": "lCAYtfza7yTq",
        "colab_type": "text"
      },
      "source": [
        "#### What is this telling us?"
      ]
    },
    {
      "cell_type": "markdown",
      "metadata": {
        "id": "MyuciD277ygU",
        "colab_type": "text"
      },
      "source": [
        "This graph shows the ranking, in an increasing order, of teams based off their winning points earned. From this, we can see the best team, Wildcats, has earned nearly fifteen thousand points in their winning games. This is over double any other team, with the second best only having a little over seven thousand. The worst team (who is off the picture) is the Golden Lions, who only scored 61 points. From the graph, users can find whichever team they choose and see how many points they earned in their winning games, and compare them to other team. Users can also at a glance see which teams perform better than others."
      ]
    },
    {
      "cell_type": "markdown",
      "metadata": {
        "id": "dGDGl8-G7y8Y",
        "colab_type": "text"
      },
      "source": [
        "### Distribution\n"
      ]
    },
    {
      "cell_type": "markdown",
      "metadata": {
        "id": "FB0uV-jy76p9",
        "colab_type": "text"
      },
      "source": [
        "![alt text](https://github.com/cms7763/SRA268-Spring2020/blob/master/Lab2/SRA%20268%20Lab%202%20Distribution.PNG?raw=true)"
      ]
    },
    {
      "cell_type": "markdown",
      "metadata": {
        "id": "_6SOzhrQ76zH",
        "colab_type": "text"
      },
      "source": [
        "#### What is this telling us?"
      ]
    },
    {
      "cell_type": "markdown",
      "metadata": {
        "id": "HBWqsS_g767h",
        "colab_type": "text"
      },
      "source": [
        "This graph shows how many points team win with, and how many times it has happened. The most common number of points a winning team scores is in the seventies. On the other end, the least common occurrences teams winning are when they have very few points, in the forties, this has only happened nine times. As well as low scores, it is also unlikely a team wins with an extremely high number of points, but they sometimes do. Scores of over 110 have only been achieved seven times. The main takeaway from this graph is to see the most common scores of winning teams, but still include all the scores."
      ]
    },
    {
      "cell_type": "markdown",
      "metadata": {
        "id": "wQsDThk677Fy",
        "colab_type": "text"
      },
      "source": [
        "### Change over Time\n"
      ]
    },
    {
      "cell_type": "markdown",
      "metadata": {
        "id": "Z1j_YLOA7_OK",
        "colab_type": "text"
      },
      "source": [
        "![alt text](https://github.com/cms7763/SRA268-Spring2020/blob/master/Lab2/SRA%20268%20Lab%202%20Change%20Over%20Time.PNG?raw=true)"
      ]
    },
    {
      "cell_type": "markdown",
      "metadata": {
        "id": "mpfsmmgi7_Vj",
        "colab_type": "text"
      },
      "source": [
        "#### What is this telling us?"
      ]
    },
    {
      "cell_type": "markdown",
      "metadata": {
        "id": "rYLXoMMO7_di",
        "colab_type": "text"
      },
      "source": [
        "This graph shows how the amount of points earned by the team of Ohio State changes over the years, from season to season. Their best season was the year of 2007 where they scored a total 748 points. Their worst season was the year of 2006 where they only scored 132 points. Overall, there really isn't a trend across the seasons, they didn't get worse or better over time, just ups and downs. Since there is no trend in the scores over the years, the takeaway from the graph is just to see the scores of the Ohio State team across each season."
      ]
    },
    {
      "cell_type": "markdown",
      "metadata": {
        "id": "lFwiHoE-7_jZ",
        "colab_type": "text"
      },
      "source": [
        "### Magnitude\n"
      ]
    },
    {
      "cell_type": "markdown",
      "metadata": {
        "id": "ICQFnXj78EbF",
        "colab_type": "text"
      },
      "source": [
        "![alt text](https://github.com/cms7763/SRA268-Spring2020/blob/master/Lab2/SRA%20268%20Lab%202%20Magnitude.PNG?raw=true)"
      ]
    },
    {
      "cell_type": "markdown",
      "metadata": {
        "id": "QGG7XYG88Eii",
        "colab_type": "text"
      },
      "source": [
        "#### What is this telling us?"
      ]
    },
    {
      "cell_type": "markdown",
      "metadata": {
        "id": "VS7uGa0l8Eos",
        "colab_type": "text"
      },
      "source": [
        "This graph is for the losing teams, showing all the teams who lost and increasing their bubble's size and darkness the more points they scored across all their lost games. There are three main teams with the most points, Wildcats, Tiger, and Bulldogs, with the Wildcats having the most at 6,799. The team with the least points is the Golden Griffins with only 43 across all their lost games. The main goal for this graph is to allow users to quickly see who is scoring many points in their losing games, meaning they might only barely be losing or that the opponent is scoring a significant amount more."
      ]
    },
    {
      "cell_type": "markdown",
      "metadata": {
        "id": "bEKFxP8R8Evk",
        "colab_type": "text"
      },
      "source": [
        "### Part-to-Whole\n"
      ]
    },
    {
      "cell_type": "markdown",
      "metadata": {
        "id": "WFHlcYKV8E35",
        "colab_type": "text"
      },
      "source": [
        "![alt text](https://github.com/cms7763/SRA268-Spring2020/blob/master/Lab2/SRA%20268%20Lab%202%20Part-to-Whole.PNG?raw=true)"
      ]
    },
    {
      "cell_type": "markdown",
      "metadata": {
        "id": "PNSd3wlp8UZH",
        "colab_type": "text"
      },
      "source": [
        "#### What is this telling us?"
      ]
    },
    {
      "cell_type": "markdown",
      "metadata": {
        "id": "y9tb_QRA8aqt",
        "colab_type": "text"
      },
      "source": [
        "This graph shows the diversity of the class of mascots for the winning teams in the form of a pie chart. The majority of mascots are mammals, accounting for around 75% of the mascots. The second most popular is birds with 13%, and third most popular is flowers at almost 5%. The least popular are amphibians and scaled reptiles which are tied at less than half of a percent. The goal of this graph is to simply organize the classes of mascots into a visually pleasing and easily read format, allowing for any and all users to see the data."
      ]
    }
  ]
}
