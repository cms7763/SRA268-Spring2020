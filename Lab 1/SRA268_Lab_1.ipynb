{
  "nbformat": 4,
  "nbformat_minor": 0,
  "metadata": {
    "colab": {
      "name": "SRA268 Lab 1.ipynb",
      "provenance": [],
      "authorship_tag": "ABX9TyMx0dVuodHpKyrNLJ20Tc3j",
      "include_colab_link": true
    },
    "kernelspec": {
      "name": "python3",
      "display_name": "Python 3"
    }
  },
  "cells": [
    {
      "cell_type": "markdown",
      "metadata": {
        "id": "view-in-github",
        "colab_type": "text"
      },
      "source": [
        "<a href=\"https://colab.research.google.com/github/cms7763/SRA268-Spring2020/blob/master/SRA268_Lab_1.ipynb\" target=\"_parent\"><img src=\"https://colab.research.google.com/assets/colab-badge.svg\" alt=\"Open In Colab\"/></a>"
      ]
    },
    {
      "cell_type": "markdown",
      "metadata": {
        "id": "F0iF6KEyCCvc",
        "colab_type": "text"
      },
      "source": [
        "### Name"
      ]
    },
    {
      "cell_type": "markdown",
      "metadata": {
        "id": "QOqp1bGYLGuL",
        "colab_type": "text"
      },
      "source": [
        "Snow in March across the Past Three Years"
      ]
    },
    {
      "cell_type": "markdown",
      "metadata": {
        "id": "CplqR69PCC68",
        "colab_type": "text"
      },
      "source": [
        "### Outline"
      ]
    },
    {
      "cell_type": "markdown",
      "metadata": {
        "id": "fHWLKZdhLNs7",
        "colab_type": "text"
      },
      "source": [
        "My goal is to make a graph that allows people to easily and quickly see the differences in snow recieved throughout March in State College from year to year. The reason for choosing March is because, according to Jon Nese, March is the wildest month for snow State College on average, compared to other months."
      ]
    },
    {
      "cell_type": "markdown",
      "metadata": {
        "id": "uhsRLVMuCDAM",
        "colab_type": "text"
      },
      "source": [
        "### Sketch"
      ]
    },
    {
      "cell_type": "markdown",
      "metadata": {
        "id": "DcDXW5WdK9no",
        "colab_type": "text"
      },
      "source": [
        "![alt text](https://raw.githubusercontent.com/cms7763/SRA268-Spring2020/master/Lab%201/Snow%20in%20March%20across%20Three%20Years.png)"
      ]
    },
    {
      "cell_type": "markdown",
      "metadata": {
        "id": "6R9d7_ccCPj0",
        "colab_type": "text"
      },
      "source": [
        "### Conclusion"
      ]
    },
    {
      "cell_type": "markdown",
      "metadata": {
        "id": "GgJvxutwCTh9",
        "colab_type": "text"
      },
      "source": [
        "Based off the data and graph, it appears that mid-March 2017 was when there was the most snow in March in the past three years. March of 2019 had very little snow throughout the entire month, and 2018 was similar until the third quarter when there was a moderate snowfall of around 3 inches."
      ]
    }
  ]
}
